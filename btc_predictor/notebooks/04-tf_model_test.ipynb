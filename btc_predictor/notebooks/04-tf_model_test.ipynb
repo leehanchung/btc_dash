{
 "cells": [
  {
   "cell_type": "code",
   "execution_count": 2,
   "metadata": {},
   "outputs": [
    {
     "output_type": "stream",
     "name": "stdout",
     "text": [
      "The autoreload extension is already loaded. To reload it, use:\n  %reload_ext autoreload\n"
     ]
    }
   ],
   "source": [
    "import sys\n",
    "from datetime import date\n",
    "from pathlib import Path\n",
    "import pickle\n",
    "from typing import List, Tuple\n",
    "\n",
    "import pandas as pd\n",
    "import numpy as np\n",
    "import matplotlib as mpl\n",
    "import matplotlib.pyplot as plt\n",
    "import seaborn as sns\n",
    "import tensorflow as tf\n",
    "from tensorflow.keras import Input, Model\n",
    "\n",
    "sys.path.append(\"..\")\n",
    "from btc_predictor.config import config, logging_config\n",
    "from btc_predictor.datasets import BitfinexCandlesAPIData\n",
    "from btc_predictor.models import LSTMBTCPredictor\n",
    "\n",
    "# from btc_predictor.datasets import DataReader\n",
    "# from btc_predictor.models import LSTM_Model\n",
    "# from btc_predictor.utils import print_metrics\n",
    "# from btc_predictor.utils import show_plot\n",
    "# from btc_predictor.utils import plot_train_history\n",
    "\n",
    "tf.random.set_seed(78)\n",
    "np.random.seed(78)\n",
    "mpl.rcParams['figure.figsize'] = [16.0, 9.0]\n",
    "%matplotlib inline\n",
    "%load_ext autoreload\n",
    "%autoreload 2"
   ]
  },
  {
   "cell_type": "code",
   "execution_count": 5,
   "metadata": {},
   "outputs": [],
   "source": [
    "candles = BitfinexCandlesAPIData()\n",
    "candles.load(start_time=1610000000000)\n",
    "df = candles.pd"
   ]
  },
  {
   "cell_type": "code",
   "execution_count": 7,
   "metadata": {
    "tags": []
   },
   "outputs": [
    {
     "output_type": "stream",
     "name": "stdout",
     "text": [
      "Total daily data: 9998 days\n"
     ]
    }
   ],
   "source": [
    "BTCUSD = df.copy()\n",
    "\n",
    "BTCUSD['baseline_close'] = BTCUSD['close'].shift(1)\n",
    "BTCUSD['log_ret'] = np.log(BTCUSD['close']) - np.log(BTCUSD['close'].shift(1))\n",
    "BTCUSD['baseline_log_ret'] = np.log(BTCUSD['baseline_close']) - np.log(BTCUSD['baseline_close'].shift(1))\n",
    "BTCUSD.dropna(inplace=True)\n",
    "print(f'Total daily data: {BTCUSD.shape[0]} days')"
   ]
  },
  {
   "cell_type": "markdown",
   "metadata": {},
   "source": [
    "# 1. Univariate RNN Model\n",
    "\n",
    "Our best statistical model is ARIMA(5, 1, 1) was trained using 330 days of closing log returns and forcasted on forward 7 days. To make models comparable, we will also try to forecast the forward 7 days log returns. We tried to use 0th order differencing but the model failed to learn. Our ARIMA model provided the hit of using 1st order differencing thus we will apply the same thing."
   ]
  },
  {
   "cell_type": "code",
   "execution_count": 6,
   "metadata": {},
   "outputs": [],
   "source": [
    "time_series_data = np.diff(BTCUSD['log_ret'].to_numpy()).astype('float32')\n",
    "train = time_series_data[:config.TRAIN_SIZE]\n",
    "val = time_series_data[config.TRAIN_SIZE:config.VAL_SIZE+config.TRAIN_SIZE]\n",
    "test = time_series_data[config.VAL_SIZE+config.TRAIN_SIZE:]"
   ]
  },
  {
   "cell_type": "markdown",
   "metadata": {},
   "source": [
    "## 1.1 Data Preprocessing using tf.data"
   ]
  },
  {
   "cell_type": "code",
   "execution_count": 7,
   "metadata": {},
   "outputs": [],
   "source": [
    "train_tfds = data.create_tfds_from_np(data=train,\n",
    "                                      window_size=config.WINDOW_SIZE,\n",
    "                                      batch_size=config.BATCH_SIZE)\n",
    "val_tfds = data.create_tfds_from_np(data=val,\n",
    "                                    window_size=config.WINDOW_SIZE,\n",
    "                                    batch_size=config.BATCH_SIZE)\n",
    "test_tfds = data.create_tfds_from_np(data=test,\n",
    "                                     window_size=config.WINDOW_SIZE,\n",
    "                                     batch_size=1)"
   ]
  }
 ],
 "metadata": {
  "kernelspec": {
   "name": "python3",
   "display_name": "Python 3.7.4 64-bit ('btc_predictor-newMfeuI': pipenv)"
  },
  "language_info": {
   "codemirror_mode": {
    "name": "ipython",
    "version": 3
   },
   "file_extension": ".py",
   "mimetype": "text/x-python",
   "name": "python",
   "nbconvert_exporter": "python",
   "pygments_lexer": "ipython3",
   "version": "3.7.4"
  },
  "interpreter": {
   "hash": "80e4f9a340f6e132375696762698e3e5bc44c3277e77fad95c17fed1d7c69412"
  }
 },
 "nbformat": 4,
 "nbformat_minor": 2
}