{
 "cells": [
  {
   "cell_type": "code",
   "execution_count": 1,
   "metadata": {},
   "outputs": [],
   "source": [
    "import sys\n",
    "from datetime import date\n",
    "from pathlib import Path\n",
    "import pickle\n",
    "from typing import List, Tuple\n",
    "\n",
    "import pandas as pd\n",
    "import numpy as np\n",
    "import matplotlib as mpl\n",
    "import matplotlib.pyplot as plt\n",
    "import seaborn as sns\n",
    "import tensorflow as tf\n",
    "from tensorflow.keras import Input, Model\n",
    "\n",
    "sys.path.append(\"..\")\n",
    "from btc_predictor.config import config, logging_config\n",
    "from btc_predictor.datasets import BitfinexCandlesAPIData\n",
    "from btc_predictor.models import LSTMModelHandler\n",
    "\n",
    "# from btc_predictor.datasets import DataReader\n",
    "# from btc_predictor.models import LSTM_Model\n",
    "# from btc_predictor.utils import print_metrics\n",
    "# from btc_predictor.utils import show_plot\n",
    "# from btc_predictor.utils import plot_train_history\n",
    "\n",
    "tf.random.set_seed(78)\n",
    "np.random.seed(78)\n",
    "mpl.rcParams['figure.figsize'] = [16.0, 9.0]\n",
    "%matplotlib inline\n",
    "%load_ext autoreload\n",
    "%autoreload 2"
   ]
  },
  {
   "cell_type": "code",
   "execution_count": 2,
   "metadata": {},
   "outputs": [],
   "source": [
    "candles = BitfinexCandlesAPIData()\n",
    "candles.load(start_time=1610000000000)\n",
    "df = candles.pd"
   ]
  },
  {
   "cell_type": "code",
   "execution_count": 3,
   "metadata": {
    "tags": []
   },
   "outputs": [
    {
     "output_type": "stream",
     "name": "stdout",
     "text": [
      "Total daily data: 9998 days\n"
     ]
    }
   ],
   "source": [
    "BTCUSD = df.copy()\n",
    "\n",
    "BTCUSD['baseline_close'] = BTCUSD['close'].shift(1)\n",
    "BTCUSD['log_ret'] = np.log(BTCUSD['close']) - np.log(BTCUSD['close'].shift(1))\n",
    "BTCUSD['baseline_log_ret'] = np.log(BTCUSD['baseline_close']) - np.log(BTCUSD['baseline_close'].shift(1))\n",
    "BTCUSD.dropna(inplace=True)\n",
    "print(f'Total daily data: {BTCUSD.shape[0]} days')"
   ]
  },
  {
   "cell_type": "code",
   "execution_count": 4,
   "metadata": {},
   "outputs": [],
   "source": [
    "x = np.arange(1, 16)\n",
    "x_log_ret = np.diff(np.log(x))\n",
    "x_log_ret_diff = np.diff(x_log_ret)"
   ]
  },
  {
   "cell_type": "code",
   "execution_count": 5,
   "metadata": {},
   "outputs": [
    {
     "output_type": "execute_result",
     "data": {
      "text/plain": [
       "(array([ 1,  2,  3,  4,  5,  6,  7,  8,  9, 10, 11, 12, 13, 14, 15]),\n",
       " array([0.69314718, 0.40546511, 0.28768207, 0.22314355, 0.18232156,\n",
       "        0.15415068, 0.13353139, 0.11778304, 0.10536052, 0.09531018,\n",
       "        0.08701138, 0.08004271, 0.07410797, 0.06899287]),\n",
       " array([-0.28768207, -0.11778304, -0.06453852, -0.04082199, -0.02817088,\n",
       "        -0.02061929, -0.01574836, -0.01242252, -0.01005034, -0.0082988 ,\n",
       "        -0.00696867, -0.00593474, -0.0051151 ]))"
      ]
     },
     "metadata": {},
     "execution_count": 5
    }
   ],
   "source": [
    "x, x_log_ret, x_log_ret_diff"
   ]
  },
  {
   "cell_type": "code",
   "execution_count": 6,
   "metadata": {},
   "outputs": [],
   "source": [
    "pred = -0.006"
   ]
  },
  {
   "cell_type": "code",
   "execution_count": 7,
   "metadata": {},
   "outputs": [
    {
     "output_type": "execute_result",
     "data": {
      "text/plain": [
       "0.06299287148695165"
      ]
     },
     "metadata": {},
     "execution_count": 7
    }
   ],
   "source": [
    "x_log_ret[-1] + pred"
   ]
  },
  {
   "cell_type": "code",
   "execution_count": 8,
   "metadata": {},
   "outputs": [
    {
     "output_type": "execute_result",
     "data": {
      "text/plain": [
       "15.975288708009678"
      ]
     },
     "metadata": {},
     "execution_count": 8
    }
   ],
   "source": [
    "x[-1] * np.exp(x_log_ret[-1] + pred)"
   ]
  },
  {
   "cell_type": "code",
   "execution_count": null,
   "metadata": {},
   "outputs": [],
   "source": []
  }
 ],
 "metadata": {
  "kernelspec": {
   "name": "python3",
   "display_name": "Python 3.7.4 64-bit ('btc_predictor-newMfeuI': pipenv)"
  },
  "language_info": {
   "codemirror_mode": {
    "name": "ipython",
    "version": 3
   },
   "file_extension": ".py",
   "mimetype": "text/x-python",
   "name": "python",
   "nbconvert_exporter": "python",
   "pygments_lexer": "ipython3",
   "version": "3.7.4"
  },
  "interpreter": {
   "hash": "80e4f9a340f6e132375696762698e3e5bc44c3277e77fad95c17fed1d7c69412"
  }
 },
 "nbformat": 4,
 "nbformat_minor": 2
}